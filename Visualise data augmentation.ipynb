{
 "cells": [
  {
   "cell_type": "markdown",
   "id": "a991803f-5184-40d7-ad72-d858192d9ef6",
   "metadata": {},
   "source": [
    "# Try data augmentation"
   ]
  },
  {
   "cell_type": "code",
   "execution_count": null,
   "id": "afccd0fc-088e-41a0-920f-f09dab82cb78",
   "metadata": {},
   "outputs": [],
   "source": [
    "from data import DiabeticRetinopathyDataset, Resize, CropBlack, RandomCrop, RandomFlip\n",
    "from torchvision import transforms\n",
    "import matplotlib.pyplot as plt\n",
    "import torch\n",
    "import numpy as np"
   ]
  },
  {
   "cell_type": "code",
   "execution_count": null,
   "id": "ca311d0e-2e24-44ca-b22c-d49c9bb0619c",
   "metadata": {},
   "outputs": [],
   "source": [
    "DATA_FOLDER = \"data\"\n",
    "TRAIN_FOLDER = \"train\"\n",
    "TRAIN_LABELS_CSV = \"reducedTrainLabels.csv\"  # \"trainLabels.csv\"\n",
    "\n",
    "BATCH_SIZE = 5\n"
   ]
  },
  {
   "cell_type": "code",
   "execution_count": null,
   "id": "992231d2-f202-4ff0-b79b-3d0655f04efa",
   "metadata": {},
   "outputs": [],
   "source": [
    "DR_dataset = DiabeticRetinopathyDataset(\n",
    "    TRAIN_LABELS_CSV,\n",
    "    DATA_FOLDER,\n",
    "    TRAIN_FOLDER,\n",
    "    transform=transforms.Compose([CropBlack(), Resize(output_size=260), RandomCrop(output_size=224), RandomFlip()]),  # output size depends on the model\n",
    "    size=40,\n",
    ")\n",
    "# train_set, val_set = DR_dataset.train_val_split(split_rate=0.8)\n",
    "generator = torch.Generator().manual_seed(42)\n",
    "train_set, val_set = torch.utils.data.random_split(DR_dataset, [0.8, 0.2], generator=generator)"
   ]
  },
  {
   "cell_type": "code",
   "execution_count": null,
   "id": "210d47e7-6c25-4af1-9279-fd3949a33ff5",
   "metadata": {},
   "outputs": [],
   "source": [
    "h = 15\n",
    "output_size = 15\n",
    "crop = np.random.randint(low=0, high=h-output_size+1)\n",
    "assert len(np.arange(h)[crop:crop+output_size]) == output_size"
   ]
  },
  {
   "cell_type": "code",
   "execution_count": null,
   "id": "73406f6f-66c1-40c0-9738-a775f63a2791",
   "metadata": {},
   "outputs": [],
   "source": [
    "def visualise_random_sampled(size = (4, 4)):\n",
    "    torch.manual_seed(67)\n",
    "    random_indices = torch.randint(0, len(DR_dataset), size=size)\n",
    "    \n",
    "    fig, axs = plt.subplots(*random_indices.shape, figsize=(15, 15))\n",
    "    for i in range(random_indices.shape[0]):\n",
    "        for j in range(random_indices.shape[1]):\n",
    "            idx = random_indices[i, j]\n",
    "            im, label = DR_dataset[idx]\n",
    "            ax = axs[i,j]\n",
    "            ax.set_title(f\"label {label}\")\n",
    "            ax.imshow(im.permute(1, 2, 0))\n",
    "    # plt.tight_layout()\n",
    "    \n",
    "visualise_random_sampled()\n",
    "# Some eyes are already not fully captured by the original image "
   ]
  },
  {
   "cell_type": "code",
   "execution_count": null,
   "id": "87ef6175-277c-47d6-8b3e-b18219dda636",
   "metadata": {},
   "outputs": [],
   "source": []
  }
 ],
 "metadata": {
  "kernelspec": {
   "display_name": "Python 3 (ipykernel)",
   "language": "python",
   "name": "python3"
  },
  "language_info": {
   "codemirror_mode": {
    "name": "ipython",
    "version": 3
   },
   "file_extension": ".py",
   "mimetype": "text/x-python",
   "name": "python",
   "nbconvert_exporter": "python",
   "pygments_lexer": "ipython3",
   "version": "3.8.10"
  }
 },
 "nbformat": 4,
 "nbformat_minor": 5
}
