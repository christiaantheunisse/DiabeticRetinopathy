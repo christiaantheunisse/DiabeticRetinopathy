{
 "cells": [
  {
   "cell_type": "markdown",
   "id": "d8cb4918-2389-4372-ab2f-944d5cdc8fc6",
   "metadata": {},
   "source": [
    "# Inspect the training data"
   ]
  },
  {
   "cell_type": "code",
   "execution_count": null,
   "id": "099a0d45-60e8-4768-82f5-7464da12f3c5",
   "metadata": {},
   "outputs": [],
   "source": [
    "from data import DiabeticRetinopathyDataset\n",
    "import matplotlib.pyplot as plt\n",
    "import torch\n",
    "import numpy as np\n",
    "import pandas as pd\n",
    "from typing import Dict, Tuple\n"
   ]
  },
  {
   "cell_type": "code",
   "execution_count": null,
   "id": "f190b7b2-d8b4-4d3f-954e-341669171a27",
   "metadata": {},
   "outputs": [],
   "source": [
    "DATA_FOLDER = \"data\"\n",
    "TRAIN_FOLDER = \"train\"\n",
    "TRAIN_LABELS_CSV = \"trainLabels.csv\""
   ]
  },
  {
   "cell_type": "code",
   "execution_count": null,
   "id": "4c6f6bbb-f8ba-40cb-8cc9-25dbfbe15064",
   "metadata": {},
   "outputs": [],
   "source": [
    "# Load the whole training set\n",
    "DR_dataset = DiabeticRetinopathyDataset(\n",
    "    TRAIN_LABELS_CSV,\n",
    "    DATA_FOLDER,\n",
    "    TRAIN_FOLDER,\n",
    ")"
   ]
  },
  {
   "cell_type": "code",
   "execution_count": null,
   "id": "3afb4a16-c1de-44d2-a88f-0a40b2ec5621",
   "metadata": {},
   "outputs": [],
   "source": [
    "label_count = np.unique(DR_dataset.labels, return_counts=True)\n",
    "a = plt.bar(*label_count, data=label_count[1])\n",
    "plt.xlabel(\"Diabetic Retinopathy (DR) severity level. 0 = no DR; 5 = proliferative DR\")\n",
    "plt.ylabel(\"no. of samples\")\n",
    "plt.title(\"Class distribution\")\n",
    "\n",
    "y_low, y_high = plt.ylim()\n",
    "plt.ylim(y_low, y_high + y_high/25)\n",
    "for i in range(len(label_count[0])):\n",
    "    plt.text(i, label_count[1][i] + y_high/35, label_count[1][i], ha = 'center')\n",
    "\n",
    "print(\" label | count \\n\" + \\\n",
    "      \"-------|-------\")\n",
    "for label, count in zip(*label_count):\n",
    "    print(f\"   {label}   | {count}  \") \n",
    "\n",
    "# plt.savefig(\"media/class_distribution_resampled.pdf\")\n",
    "plt.show()"
   ]
  },
  {
   "cell_type": "code",
   "execution_count": null,
   "id": "34419cb2-bb06-4eaa-b555-1fc813308508",
   "metadata": {},
   "outputs": [],
   "source": []
  },
  {
   "cell_type": "markdown",
   "id": "020fdb73-6677-48bd-8a0e-22c978d2cfe9",
   "metadata": {},
   "source": [
    "## Create a reduced, balanced dataset to allow fast, iterative training"
   ]
  },
  {
   "cell_type": "code",
   "execution_count": null,
   "id": "ba2eca10-1518-4734-b450-e475058db435",
   "metadata": {},
   "outputs": [],
   "source": [
    "\"\"\"\n",
    "    Create a reduced dataset to train on. Sample 700 samples from every class.\n",
    "    Since the data is already shuffled, we can just use the first 700 samples.\n",
    "\"\"\"\n",
    "indices = np.arange(len(DR_dataset.labels))\n",
    "unique_labels = label_count[0]\n",
    "new_data_set = np.array([], dtype=int)\n",
    "for label in unique_labels:\n",
    "    mask = DR_dataset.labels == label\n",
    "    indices_for_class_i = indices[mask]\n",
    "    first_700 = indices_for_class_i[:700]\n",
    "    new_data_set = np.append(new_data_set, first_700)\n",
    "    \n",
    "new_data_set.sort()\n",
    "\n",
    "indices, unique_labels, new_data_set, len(new_data_set)"
   ]
  },
  {
   "cell_type": "code",
   "execution_count": null,
   "id": "c972c3d1-3c1f-460f-97f8-18198c47f8fc",
   "metadata": {},
   "outputs": [],
   "source": [
    "import csv\n",
    "\n",
    "# with open('reducedTrainLabels.csv', 'w', newline='') as file:\n",
    "#     writer = csv.writer(file)\n",
    "    \n",
    "#     writer.writerow([\"image\", \"level\"])\n",
    "#     for item, label in zip(DR_dataset.items[new_data_set], DR_dataset.labels[new_data_set]): \n",
    "#         writer.writerow([item, label])"
   ]
  },
  {
   "cell_type": "code",
   "execution_count": null,
   "id": "9c3c5aee-51d1-4de5-ac54-9863fbc85972",
   "metadata": {},
   "outputs": [],
   "source": [
    "DATA_FOLDER = \"data\"\n",
    "TRAIN_FOLDER = \"train\"\n",
    "TRAIN_LABELS_CSV = \"reducedTrainLabels.csv\""
   ]
  },
  {
   "cell_type": "code",
   "execution_count": null,
   "id": "910af966-5c48-4f43-a105-40eb8ee87daa",
   "metadata": {},
   "outputs": [],
   "source": [
    "# Load the reduced training set\n",
    "DR_dataset_reduced = DiabeticRetinopathyDataset(\n",
    "    TRAIN_LABELS_CSV,\n",
    "    DATA_FOLDER,\n",
    "    TRAIN_FOLDER,\n",
    ")"
   ]
  },
  {
   "cell_type": "code",
   "execution_count": null,
   "id": "88f8a6a9-33f5-44ab-a417-7e655f89eed3",
   "metadata": {},
   "outputs": [],
   "source": [
    "label_count = np.unique(DR_dataset_reduced.labels, return_counts=True)\n",
    "plt.bar(*label_count)\n",
    "plt.xlabel(\"Diabetic Retinopathy (DR) severity level. 0 = no DR; 5 = proliferative DR\")\n",
    "plt.ylabel(\"no. of samples\")\n",
    "plt.title(\"Class distribution\")\n",
    "\n",
    "y_low, y_high = plt.ylim()\n",
    "plt.ylim(y_low, y_high + y_high/25)\n",
    "for i in range(len(label_count[0])):\n",
    "    plt.text(i, label_count[1][i] + y_high/35, label_count[1][i], ha = 'center')\n",
    "\n",
    "print(\" label | count \\n\" + \\\n",
    "      \"-------|-------\")\n",
    "for label, count in zip(*label_count):\n",
    "    print(f\"   {label}   | {count}  \") \n"
   ]
  }
 ],
 "metadata": {
  "kernelspec": {
   "display_name": "Python 3 (ipykernel)",
   "language": "python",
   "name": "python3"
  },
  "language_info": {
   "codemirror_mode": {
    "name": "ipython",
    "version": 3
   },
   "file_extension": ".py",
   "mimetype": "text/x-python",
   "name": "python",
   "nbconvert_exporter": "python",
   "pygments_lexer": "ipython3",
   "version": "3.8.10"
  }
 },
 "nbformat": 4,
 "nbformat_minor": 5
}
